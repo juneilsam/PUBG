{
  "nbformat": 4,
  "nbformat_minor": 0,
  "metadata": {
    "colab": {
      "name": "PUBG_open.ipynb",
      "provenance": [],
      "collapsed_sections": [],
      "mount_file_id": "1-wDp5BU9jFNDxu5I4xgG96juX36mEKpD",
      "authorship_tag": "ABX9TyMRi20JKsofVQIqaQqBBkbV",
      "include_colab_link": true
    },
    "kernelspec": {
      "name": "python3",
      "display_name": "Python 3"
    },
    "accelerator": "GPU"
  },
  "cells": [
    {
      "cell_type": "markdown",
      "metadata": {
        "id": "view-in-github",
        "colab_type": "text"
      },
      "source": [
        "<a href=\"https://colab.research.google.com/github/juneilsam/PUBG/blob/main/PUBG_API.ipynb\" target=\"_parent\"><img src=\"https://colab.research.google.com/assets/colab-badge.svg\" alt=\"Open In Colab\"/></a>"
      ]
    },
    {
      "cell_type": "markdown",
      "metadata": {
        "id": "vAt8zyi9V258"
      },
      "source": [
        "**대상**\n",
        "\n",
        "- STEAM\n",
        "\n",
        "- 2018-01 시즌\n",
        "\n",
        "- SOLO\n",
        "\n",
        "- Korea˙Japan, Asia"
      ]
    },
    {
      "cell_type": "markdown",
      "metadata": {
        "id": "nsPb-jGvU2Iw"
      },
      "source": [
        "개인정보 노출을 우려하여 출력 결과는 포함하지 않았습니다."
      ]
    },
    {
      "cell_type": "code",
      "metadata": {
        "id": "N2dLihGFVcyb",
        "colab": {
          "base_uri": "https://localhost:8080/"
        },
        "outputId": "db647890-ae6e-4597-9667-5af45c2e3f32"
      },
      "source": [
        "# 주요 모듈 불러오기\n",
        "\n",
        "import requests                         # 웹페이지 접속\n",
        "import json                             # json 데이터 가공 \n",
        "import time                             # 분당 접속 제한\n",
        "from tqdm import tqdm                   # 진행 상황 확인\n",
        "import csv                              # csv 파일로 변환\n",
        "import pandas as pd                     # dataframe으로의 가공\n",
        "from google.colab import drive          # csv 파일 저장 경로 지정\n",
        "drive.mount('/content/drive')"
      ],
      "execution_count": null,
      "outputs": [
        {
          "output_type": "stream",
          "text": [
            "Drive already mounted at /content/drive; to attempt to forcibly remount, call drive.mount(\"/content/drive\", force_remount=True).\n"
          ],
          "name": "stdout"
        }
      ]
    },
    {
      "cell_type": "code",
      "metadata": {
        "id": "d6Cwq804XEMd"
      },
      "source": [
        "# Authorization key를 이용한 접속 허가\n",
        "\n",
        "header = {\n",
        "  \"Authorization\": \"KEY\",\n",
        "  \"Accept\": \"application/vnd.api+json\"\n",
        "}"
      ],
      "execution_count": null,
      "outputs": []
    },
    {
      "cell_type": "code",
      "metadata": {
        "id": "EZt3YYT70DVr"
      },
      "source": [
        "# leaderboards에서 상위권 players' id 수집하기\n",
        "player_list = []  # players' id 리스트\n",
        "\n",
        "def leaders(area):\n",
        "\n",
        "    r = requests.get(f\"https://api.pubg.com/shards/pc-{area}/leaderboards/division.bro.official.pc-2018-10/solo\", headers=header)\n",
        "\n",
        "    player_Id = json.loads(r.text)\n",
        "\n",
        "    p = player_Id['data']['relationships']['players']['data']\n",
        "\n",
        "    for n in p:\n",
        "        player_list.append(n.get(\"id\"))"
      ],
      "execution_count": null,
      "outputs": []
    },
    {
      "cell_type": "code",
      "metadata": {
        "id": "YYqKuQtceBcz"
      },
      "source": [
        "for area in ['krjp', 'as']:\n",
        "  leaders(area)"
      ],
      "execution_count": null,
      "outputs": []
    },
    {
      "cell_type": "code",
      "metadata": {
        "id": "b9fVHMUKd9Kr"
      },
      "source": [
        "print(player_list) # 수집된 데이터 확인\n",
        "print(len(player_list)) # 인원 수"
      ],
      "execution_count": null,
      "outputs": []
    },
    {
      "cell_type": "code",
      "metadata": {
        "id": "hqEtSakqeCMf"
      },
      "source": [
        "# matchId 수집하기\n",
        "\n",
        "match_list = []\n",
        "\n",
        "def gathering_match(player):\n",
        "\n",
        "    url = f\"https://api.pubg.com/shards/steam/players/{player}\"\n",
        "\n",
        "    r = requests.get(url, headers=header)\n",
        "\n",
        "    player_stat = json.loads(r.text)\n",
        "    \n",
        "    g = player_stat['data']['relationships']['matches']['data']  # 각 매치 데이터\n",
        "\n",
        "    for n in g:\n",
        "      match_list.append(n.get(\"id\"))  # 각 매치 별 id 선별"
      ],
      "execution_count": null,
      "outputs": []
    },
    {
      "cell_type": "code",
      "metadata": {
        "id": "q1l_-mLNFs9I"
      },
      "source": [
        "time.sleep(60) # 분당 접속 제한을 피하기 위함"
      ],
      "execution_count": null,
      "outputs": []
    },
    {
      "cell_type": "code",
      "metadata": {
        "id": "ywmHimCnfJfW"
      },
      "source": [
        "# 접속 제한으로 1분 간격으로 10명씩 matchId 수집하기\n",
        "\n",
        "count = 0\n",
        " \n",
        "for player in tqdm(player_list):\n",
        "  gathering_match(player)\n",
        "  count += 1\n",
        " \n",
        "  if count == 10:\n",
        "    time.sleep(60)\n",
        "    count = 0"
      ],
      "execution_count": null,
      "outputs": []
    },
    {
      "cell_type": "code",
      "metadata": {
        "id": "OH1ZI_n9g9UV"
      },
      "source": [
        "# 수집 matchId 확인\n",
        "print(match_list)\n",
        "print(len(match_list))\n",
        "\n",
        "# 중복 제거\n",
        "match_list = list(set(match_list))\n",
        "print(len(match_list))"
      ],
      "execution_count": null,
      "outputs": []
    },
    {
      "cell_type": "code",
      "metadata": {
        "id": "KeIwewyQG5he"
      },
      "source": [
        "# matchId 리스트 복제\n",
        "\n",
        "matches = match_list[:]"
      ],
      "execution_count": null,
      "outputs": []
    },
    {
      "cell_type": "code",
      "metadata": {
        "id": "iXdL5sqiwxop"
      },
      "source": [
        "# 매치별 데이터 수집을 위해 비어있는 DataFrame 생성 \n",
        "\n",
        "mainDB = pd.DataFrame()"
      ],
      "execution_count": null,
      "outputs": []
    },
    {
      "cell_type": "code",
      "metadata": {
        "id": "jX3yHnivuVJe"
      },
      "source": [
        "# 매치별 플레이어 정보 수집을 위한 함수\n",
        "\n",
        "def gathering_data(match):\n",
        "    \n",
        "    url = f\"https://api.pubg.com/shards/steam/matches/{match}\"\n",
        "\n",
        "    r = requests.get(url, headers=header)\n",
        "\n",
        "    match_data = json.loads(r.text)\n",
        "    match_included = match_data['included']\n",
        "\n",
        "    temp = pd.DataFrame()\n",
        "\n",
        "    for i in match_included:\n",
        "      if i['type'] == 'participant':\n",
        "        sub = i['attributes']['stats']\n",
        "        main = pd.DataFrame(sub, index = [0])\n",
        "        temp = temp.append(main)\n",
        "\n",
        "    return temp # 한 매치에 참여한 모든 플레이어 데이터"
      ],
      "execution_count": null,
      "outputs": []
    },
    {
      "cell_type": "code",
      "metadata": {
        "id": "YhkrXo29IJ2I"
      },
      "source": [
        "# 매치 별 플레이어 데이터 수집 및 통합 1\n",
        "\n",
        "for match in tqdm(matches[:10000]):\n",
        "  mainDB = mainDB.append(gathering_data(match))"
      ],
      "execution_count": null,
      "outputs": []
    },
    {
      "cell_type": "code",
      "metadata": {
        "id": "DeqecpS1RU0j"
      },
      "source": [
        "# 매치 별 플레이어 데이터 수집 및 통합 2\n",
        "\n",
        "for match in tqdm(matches[10000:20000]):\n",
        "  mainDB = mainDB.append(gathering_data(match))"
      ],
      "execution_count": null,
      "outputs": []
    },
    {
      "cell_type": "code",
      "metadata": {
        "id": "l7m6WMqmRUUR"
      },
      "source": [
        "# 매치 별 플레이어 데이터 수집 및 통합 3\n",
        "\n",
        "for match in tqdm(matches[20000:30000]):\n",
        "  mainDB = mainDB.append(gathering_data(match))"
      ],
      "execution_count": null,
      "outputs": []
    },
    {
      "cell_type": "code",
      "metadata": {
        "id": "pPNufZGdHfuo"
      },
      "source": [
        "# 매치 별 플레이어 데이터 수집 및 통합 4\n",
        "\n",
        "for match in tqdm(matches[30007:]):\n",
        "  mainDB = mainDB.append(gathering_data(match))"
      ],
      "execution_count": null,
      "outputs": []
    },
    {
      "cell_type": "code",
      "metadata": {
        "id": "wRdMqAsFKUv9"
      },
      "source": [
        "# 확인\n",
        "\n",
        "mainDB"
      ],
      "execution_count": null,
      "outputs": []
    },
    {
      "cell_type": "code",
      "metadata": {
        "id": "cC-JSwaoN8KA"
      },
      "source": [
        "# csv 파일로 저장\n",
        "\n",
        "mainDB.to_csv('/content/drive/MyDrive/PUBG/pubg_data.csv')"
      ],
      "execution_count": null,
      "outputs": []
    },
    {
      "cell_type": "code",
      "metadata": {
        "id": "UvQjo9gqOUIp"
      },
      "source": [
        "df = mainDB[:]"
      ],
      "execution_count": null,
      "outputs": []
    },
    {
      "cell_type": "code",
      "metadata": {
        "id": "e0VYTBpM5j4y",
        "colab": {
          "base_uri": "https://localhost:8080/"
        },
        "outputId": "2295f36f-8f88-4ead-9cbe-7de74ee49d26"
      },
      "source": [
        "# 데이터 확인\n",
        "\n",
        "df.info()"
      ],
      "execution_count": null,
      "outputs": [
        {
          "output_type": "stream",
          "text": [
            "<class 'pandas.core.frame.DataFrame'>\n",
            "Int64Index: 2078356 entries, 0 to 0\n",
            "Data columns (total 23 columns):\n",
            " #   Column           Dtype  \n",
            "---  ------           -----  \n",
            " 0   DBNOs            int64  \n",
            " 1   assists          int64  \n",
            " 2   boosts           int64  \n",
            " 3   damageDealt      float64\n",
            " 4   deathType        object \n",
            " 5   headshotKills    int64  \n",
            " 6   heals            int64  \n",
            " 7   killPlace        int64  \n",
            " 8   killStreaks      int64  \n",
            " 9   kills            int64  \n",
            " 10  longestKill      float64\n",
            " 11  name             object \n",
            " 12  playerId         object \n",
            " 13  revives          int64  \n",
            " 14  rideDistance     float64\n",
            " 15  roadKills        int64  \n",
            " 16  swimDistance     float64\n",
            " 17  teamKills        int64  \n",
            " 18  timeSurvived     float64\n",
            " 19  vehicleDestroys  int64  \n",
            " 20  walkDistance     float64\n",
            " 21  weaponsAcquired  int64  \n",
            " 22  winPlace         int64  \n",
            "dtypes: float64(6), int64(14), object(3)\n",
            "memory usage: 380.6+ MB\n"
          ],
          "name": "stdout"
        }
      ]
    }
  ]
}