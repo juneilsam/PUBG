{
  "nbformat": 4,
  "nbformat_minor": 0,
  "metadata": {
    "colab": {
      "name": "PUBG_open_API.ipynb",
      "provenance": [],
      "collapsed_sections": [],
      "mount_file_id": "1-wDp5BU9jFNDxu5I4xgG96juX36mEKpD",
      "authorship_tag": "ABX9TyPYrh77PNGPsz9y5Hq3T4pS",
      "include_colab_link": true
    },
    "kernelspec": {
      "name": "python3",
      "display_name": "Python 3"
    }
  },
  "cells": [
    {
      "cell_type": "markdown",
      "metadata": {
        "id": "view-in-github",
        "colab_type": "text"
      },
      "source": [
        "<a href=\"https://colab.research.google.com/github/juneilsam/PUBG/blob/main/PUBG_open_API.ipynb\" target=\"_parent\"><img src=\"https://colab.research.google.com/assets/colab-badge.svg\" alt=\"Open In Colab\"/></a>"
      ]
    },
    {
      "cell_type": "markdown",
      "metadata": {
        "id": "nsPb-jGvU2Iw"
      },
      "source": [
        "개인정보 노출을 우려하여 출력 결과는 포함하지 않았습니다."
      ]
    },
    {
      "cell_type": "code",
      "metadata": {
        "id": "N2dLihGFVcyb"
      },
      "source": [
        "# 주요 모듈 불러오기\r\n",
        "\r\n",
        "import requests                         # 웹페이지 접속\r\n",
        "import json                             # json 데이터 가공 \r\n",
        "import time                             # 분당 접속 제한\r\n",
        "from tqdm import tqdm                   # 진행 상황 확인\r\n",
        "import csv                              # csv 파일로 변환\r\n",
        "import pandas as pd                     # dataframe으로의 가공\r\n",
        "from google.colab import drive          # csv 파일 저장 경로 지정\r\n",
        "drive.mount('/content/drive')"
      ],
      "execution_count": null,
      "outputs": []
    },
    {
      "cell_type": "code",
      "metadata": {
        "id": "d6Cwq804XEMd"
      },
      "source": [
        "# Authorization key를 이용한 접속 허가\r\n",
        "\r\n",
        "header = {\r\n",
        "  \"Authorization\": \"Bearer <Authorization key>\",\r\n",
        "  \"Accept\": \"application/vnd.api+json\"\r\n",
        "}"
      ],
      "execution_count": 2,
      "outputs": []
    },
    {
      "cell_type": "code",
      "metadata": {
        "id": "EZt3YYT70DVr"
      },
      "source": [
        "# leaderboards에서 상위권 players' id 수집하기\r\n",
        "\r\n",
        "r = requests.get(\"https://api.pubg.com/shards/pc-krjp/leaderboards/division.bro.official.pc-2018-10/solo\", headers=header)\r\n",
        "\r\n",
        "player_Id = json.loads(r.text)\r\n",
        "\r\n",
        "p = player_Id['data']['relationships']['players']['data']\r\n",
        "\r\n",
        "player_list = [] # players' id 리스트\r\n",
        "\r\n",
        "for n in p:\r\n",
        "    player_list.append(n.get(\"id\"))\r\n",
        "\r\n",
        "print(player_list) # 수집된 데이터 확인\r\n",
        "print(len(player_list)) # 인원 수"
      ],
      "execution_count": null,
      "outputs": []
    },
    {
      "cell_type": "code",
      "metadata": {
        "id": "hqEtSakqeCMf"
      },
      "source": [
        "# matchId 수집하기\r\n",
        "\r\n",
        "match_list = []\r\n",
        "\r\n",
        "def gathering_match(player):\r\n",
        "\r\n",
        "    url = f\"https://api.pubg.com/shards/steam/players/{player}\"\r\n",
        "\r\n",
        "    r = requests.get(url, headers=header)\r\n",
        "\r\n",
        "    player_stat = json.loads(r.text)\r\n",
        "    \r\n",
        "    g = player_stat['data']['relationships']['matches']['data']  # 각 매치 데이터\r\n",
        "\r\n",
        "    for n in g:\r\n",
        "      match_list.append(n.get(\"id\"))  # 각 매치 별 id 선별"
      ],
      "execution_count": 4,
      "outputs": []
    },
    {
      "cell_type": "code",
      "metadata": {
        "id": "q1l_-mLNFs9I"
      },
      "source": [
        "time.sleep(60) # 분당 접속 제한을 피하기 위함"
      ],
      "execution_count": 5,
      "outputs": []
    },
    {
      "cell_type": "code",
      "metadata": {
        "id": "ywmHimCnfJfW"
      },
      "source": [
        "# 접속 제한으로 1분 간격으로 10명씩 matchId 수집하기\r\n",
        "\r\n",
        "count = 0\r\n",
        " \r\n",
        "for player in player_list:\r\n",
        "  gathering_match(player)\r\n",
        "  count += 1\r\n",
        " \r\n",
        "  if count == 10:\r\n",
        "    time.sleep(60)\r\n",
        "    count = 0"
      ],
      "execution_count": 6,
      "outputs": []
    },
    {
      "cell_type": "code",
      "metadata": {
        "id": "OH1ZI_n9g9UV"
      },
      "source": [
        "# 수집 matchId 확인\r\n",
        "print(match_list)\r\n",
        "print(len(match_list))\r\n",
        "\r\n",
        "# 중복 제거\r\n",
        "match_list = list(set(match_list))\r\n",
        "print(len(match_list))"
      ],
      "execution_count": null,
      "outputs": []
    },
    {
      "cell_type": "code",
      "metadata": {
        "id": "KeIwewyQG5he"
      },
      "source": [
        "# matchId 리스트 복제\r\n",
        "\r\n",
        "matches = match_list[:]"
      ],
      "execution_count": 18,
      "outputs": []
    },
    {
      "cell_type": "code",
      "metadata": {
        "id": "iXdL5sqiwxop"
      },
      "source": [
        "# 매치별 데이터 수집을 위해 비어있는 DataFrame 생성 \r\n",
        "\r\n",
        "mainDB = pd.DataFrame()"
      ],
      "execution_count": 33,
      "outputs": []
    },
    {
      "cell_type": "code",
      "metadata": {
        "id": "jX3yHnivuVJe"
      },
      "source": [
        "# 매치별 플레이어 정보 수집을 위한 함수\r\n",
        "\r\n",
        "def gathering_data(match):\r\n",
        "    \r\n",
        "    url = f\"https://api.pubg.com/shards/steam/matches/{match}\"\r\n",
        "\r\n",
        "    r = requests.get(url, headers=header)\r\n",
        "\r\n",
        "    match_data = json.loads(r.text)\r\n",
        "    match_included = match_data['included']\r\n",
        "\r\n",
        "    temp = pd.DataFrame()\r\n",
        "\r\n",
        "    for i in match_included:\r\n",
        "      if i['type'] == 'participant':\r\n",
        "        sub = i['attributes']['stats']\r\n",
        "        main = pd.DataFrame(sub, index = [0])\r\n",
        "        temp = temp.append(main)\r\n",
        "\r\n",
        "    return temp # 한 매치에 참여한 모든 플레이어 데이터"
      ],
      "execution_count": 34,
      "outputs": []
    },
    {
      "cell_type": "code",
      "metadata": {
        "id": "YhkrXo29IJ2I"
      },
      "source": [
        "# 매치 별 플레이어 데이터 수집 및 통합\r\n",
        "\r\n",
        "for match in tqdm(matches):\r\n",
        "  mainDB = mainDB.append(gathering_data(match))"
      ],
      "execution_count": null,
      "outputs": []
    },
    {
      "cell_type": "code",
      "metadata": {
        "id": "wRdMqAsFKUv9"
      },
      "source": [
        "# 확인\r\n",
        "\r\n",
        "mainDB"
      ],
      "execution_count": null,
      "outputs": []
    },
    {
      "cell_type": "code",
      "metadata": {
        "id": "oHAdIDvJ3Ce-"
      },
      "source": [
        "# csv 파일로 저장\r\n",
        "\r\n",
        "mainDB.to_csv('/content/drive/MyDrive/pubg_data.csv')"
      ],
      "execution_count": 43,
      "outputs": []
    },
    {
      "cell_type": "code",
      "metadata": {
        "id": "UvQjo9gqOUIp"
      },
      "source": [
        "df = mainDB[:]"
      ],
      "execution_count": 55,
      "outputs": []
    },
    {
      "cell_type": "code",
      "metadata": {
        "id": "e0VYTBpM5j4y"
      },
      "source": [
        "# 데이터 확인\r\n",
        "\r\n",
        "df.info()"
      ],
      "execution_count": null,
      "outputs": []
    }
  ]
}